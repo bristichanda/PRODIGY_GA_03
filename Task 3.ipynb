{
 "cells": [
  {
   "cell_type": "markdown",
   "id": "0e4bbfac-e14d-4592-89af-2dee9153a593",
   "metadata": {},
   "source": [
    "random: For randomly selecting words during text generation.\n",
    "\n",
    "re: Regular expressions used to extract words from the input text.\n",
    "\n",
    "defaultdict: A special dictionary that automatically creates lists for unseen keys (used to store the model)."
   ]
  },
  {
   "cell_type": "code",
   "execution_count": 1,
   "id": "48cba2d5-75ed-4272-ac7e-cf46b50c206b",
   "metadata": {},
   "outputs": [],
   "source": [
    "import random\n",
    "import re\n",
    "from collections import defaultdict"
   ]
  },
  {
   "cell_type": "markdown",
   "id": "67373e22-f681-4256-a47a-e39c42cc9971",
   "metadata": {},
   "source": [
    "- **Class Name**: `MarkovChainTextGenerator`\n",
    "- **Purpose**: Generates text based on a simple Markov chain model.\n",
    "- **Key Components**:\n",
    "  - `__init__()`: Initializes an empty dictionary to store word-pair relationships.\n",
    "  - `train(text)`:\n",
    "    - Tokenizes and lowercases input text.\n",
    "    - Adds `<START>` and `<END>` markers.\n",
    "    - Builds a model of word pairs and the words that follow them.\n",
    "  - `generate(length=50)`:\n",
    "    - Starts with a word after `<START>`.\n",
    "    - Predicts and appends words based on previous two.\n",
    "    - Stops when it reaches `<END>` or desired length.\n",
    "- **How it works**:\n",
    "  - Learns how words follow each other in the input text.\n",
    "  - Uses random selection to build new, similar-sounding text.\n"
   ]
  },
  {
   "cell_type": "code",
   "execution_count": 7,
   "id": "7894661f-5fbd-4281-bb11-fca9a6236226",
   "metadata": {},
   "outputs": [],
   "source": [
    "class MarkovChainTextGenerator:\n",
    "    def __init__(self):\n",
    "        self.model = defaultdict(list)\n",
    "\n",
    "    def train(self, text):\n",
    "        words = re.findall(r'\\b\\w+\\b', text.lower())\n",
    "        words = ['<START>'] + words + ['<END>']\n",
    "        for i in range(len(words) - 2):\n",
    "            key = (words[i], words[i + 1])\n",
    "            self.model[key].append(words[i + 2])\n",
    "\n",
    "    def generate(self, length=50):\n",
    "        current = ('<START>', random.choice([w2 for (w1, w2) in self.model if w1 == '<START>']))\n",
    "        output = []\n",
    "        for _ in range(length):\n",
    "            next_words = self.model.get(current)\n",
    "            if not next_words:\n",
    "                break\n",
    "            next_word = random.choice(next_words)\n",
    "            if next_word == '<END>':\n",
    "                break\n",
    "            output.append(next_word)\n",
    "            current = (current[1], next_word)\n",
    "        return ' '.join(output)\n",
    "\n"
   ]
  },
  {
   "cell_type": "markdown",
   "id": "8180dbb5-3695-4f44-b604-52ee665ab235",
   "metadata": {},
   "source": [
    "- **Purpose**: Runs the code only when the script is executed directly.\n",
    "- **Steps Performed**:\n",
    "  - Opens and reads the contents of `input.txt`.\n",
    "  - Creates an instance of `MarkovChainTextGenerator`.\n",
    "  - Trains the model on the input text.\n",
    "  - Generates and prints 100 words of text based on the trained model.\n",
    "- **Special Note**:\n",
    "  - The `if __name__ == \"__main__\":` check ensures this part doesn't run if the script is imported as a module elsewhere.\n"
   ]
  },
  {
   "cell_type": "code",
   "execution_count": 11,
   "id": "117db97d-1a5a-4695-ae8c-3e81e7dd092d",
   "metadata": {},
   "outputs": [
    {
     "name": "stdout",
     "output_type": "stream",
     "text": [
      "\n",
      "📢 Generated Text:\n",
      "\n",
      "4 create a private bucket in aws upload a file and locate the uploaded file and locate the uploaded files will be accessible publicly until the url into a new browser tab and press enter 3 expected output you should see an access denied message indicating the file s properties 2 open the object url in a web browser o expected output you should see an access denied message indicating the file s properties 2 open the object url in a web browser o expected output you should see an access denied message indicating the file s properties 2 open\n"
     ]
    }
   ],
   "source": [
    "if __name__ == \"__main__\":\n",
    "    with open(\"input.txt\", \"r\", encoding=\"utf-8\") as f:\n",
    "        text = f.read()\n",
    "\n",
    "    generator = MarkovChainTextGenerator()\n",
    "    generator.train(text)\n",
    "\n",
    "    print(\"\\n📢 Generated Text:\\n\")\n",
    "    print(generator.generate(length=100))"
   ]
  },
  {
   "cell_type": "code",
   "execution_count": null,
   "id": "a2f7fe44-67b6-4a61-8e87-e22b56eae858",
   "metadata": {},
   "outputs": [],
   "source": []
  }
 ],
 "metadata": {
  "kernelspec": {
   "display_name": "Python 3 (ipykernel)",
   "language": "python",
   "name": "python3"
  },
  "language_info": {
   "codemirror_mode": {
    "name": "ipython",
    "version": 3
   },
   "file_extension": ".py",
   "mimetype": "text/x-python",
   "name": "python",
   "nbconvert_exporter": "python",
   "pygments_lexer": "ipython3",
   "version": "3.9.20"
  }
 },
 "nbformat": 4,
 "nbformat_minor": 5
}
